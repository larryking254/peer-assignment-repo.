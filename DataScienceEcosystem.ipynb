{
  "metadata": {
    "language_info": {
      "codemirror_mode": {
        "name": "python",
        "version": 3
      },
      "file_extension": ".py",
      "mimetype": "text/x-python",
      "name": "python",
      "nbconvert_exporter": "python",
      "pygments_lexer": "ipython3",
      "version": "3.8"
    },
    "kernelspec": {
      "name": "python",
      "display_name": "Pyolite",
      "language": "python"
    }
  },
  "nbformat_minor": 4,
  "nbformat": 4,
  "cells": [
    {
      "cell_type": "markdown",
      "source": "# DATA SCIENCE AND ECOSYSTEM ",
      "metadata": {}
    },
    {
      "cell_type": "markdown",
      "source": "**Objectives**\n- create a jupyter notebook\n- list Data Science Languages\n- list Data Science Libraries\n- list Data Science Tools\n- simple arithmetic expressions\n",
      "metadata": {}
    },
    {
      "cell_type": "markdown",
      "source": "in this notebook, Data Science Tools and Ecosytems are summarized.",
      "metadata": {}
    },
    {
      "cell_type": "markdown",
      "source": "Here are Popular Data Science languages\n1. Python\n2. R\n3. Sql",
      "metadata": {}
    },
    {
      "cell_type": "markdown",
      "source": "Below are some of commonly used Data Science Libraries.\n1. Pandas\n2. Numpy\n3. Matlotlib.\n4. Scipy\n5. sci-kit learn",
      "metadata": {}
    },
    {
      "cell_type": "markdown",
      "source": "|Data Science Tools|\n|------------------|\n|R-Studio|\n|Spyder|\n|Jupyter|\n|Apache Zeppelin|\n",
      "metadata": {}
    },
    {
      "cell_type": "markdown",
      "source": "### Below are few examples of evaluating arithmetic expressions in python.",
      "metadata": {}
    },
    {
      "cell_type": "code",
      "source": "# This a simple arithmetic expression to mutiply then add integers\n(3*4)+5",
      "metadata": {
        "trusted": true
      },
      "execution_count": 1,
      "outputs": [
        {
          "execution_count": 1,
          "output_type": "execute_result",
          "data": {
            "text/plain": "17"
          },
          "metadata": {}
        }
      ]
    },
    {
      "cell_type": "code",
      "source": "# This will convert 200 minutes to hours by diving by 60\nminutes = 200\nhours =minutes/60\nprint(hours)",
      "metadata": {
        "trusted": true
      },
      "execution_count": 7,
      "outputs": [
        {
          "name": "stdout",
          "text": "3.3333333333333335\n",
          "output_type": "stream"
        }
      ]
    },
    {
      "cell_type": "markdown",
      "source": "## Author \nLawrence Wachera",
      "metadata": {}
    }
  ]
}